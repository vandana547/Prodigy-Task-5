{
  "cells": [
    {
      "cell_type": "code",
      "execution_count": null,
      "metadata": {
        "id": "o-6-45DyDqqB"
      },
      "outputs": [],
      "source": [
        "import requests\n",
        "from bs4 import BeautifulSoup\n",
        "import csv\n",
        "\n",
        "# URL to scrape\n",
        "BASE_URL = \"http://books.toscrape.com/catalogue/page-{}.html\"\n",
        "products = []\n",
        "\n",
        "# Map star-rating class to numeric value\n",
        "rating_map = {\n",
        "    \"One\": 1,\n",
        "    \"Two\": 2,\n",
        "    \"Three\": 3,\n",
        "    \"Four\": 4,\n",
        "    \"Five\": 5\n",
        "}\n",
        "\n",
        "# Scrape first 3 pages for demo\n",
        "for page in range(1, 4):\n",
        "    url = BASE_URL.format(page)\n",
        "    response = requests.get(url)\n",
        "    soup = BeautifulSoup(response.text, \"html.parser\")\n",
        "\n",
        "    articles = soup.find_all(\"article\", class_=\"product_pod\")\n",
        "\n",
        "    for article in articles:\n",
        "        title = article.h3.a[\"title\"]\n",
        "        price = article.find(\"p\", class_=\"price_color\").text.replace(\"£\", \"\")\n",
        "        rating_class = article.p.get(\"class\")[1]\n",
        "        rating = rating_map.get(rating_class, 0)\n",
        "\n",
        "        products.append([title, price, rating])\n",
        "\n",
        "# Write to CSV\n",
        "with open(\"products.csv\", \"w\", newline='', encoding='utf-8') as file:\n",
        "    writer = csv.writer(file)\n",
        "    writer.writerow([\"Title\", \"Price (GBP)\", \"Rating (1-5)\"])\n",
        "    writer.writerows(products)\n",
        "\n",
        "print(f\"\\nScraping complete! {len(products)} products saved in 'products.csv'.\")"
      ]
    }
  ],
  "metadata": {
    "colab": {
      "name": "Welcome To Colab",
      "provenance": []
    },
    "kernelspec": {
      "display_name": "Python 3",
      "name": "python3"
    }
  },
  "nbformat": 4,
  "nbformat_minor": 0
}
